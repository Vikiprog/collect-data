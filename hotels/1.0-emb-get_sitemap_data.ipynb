{
 "cells": [
  {
   "cell_type": "code",
   "execution_count": null,
   "metadata": {},
   "outputs": [],
   "source": [
    "import re\n",
    "import requests\n",
    "from bs4 import BeautifulSoup\n",
    "import pandas as pd\n",
    "import gzip\n",
    "import s3fs\n",
    "from tqdm import tqdm"
   ]
  },
  {
   "cell_type": "code",
   "execution_count": null,
   "metadata": {},
   "outputs": [],
   "source": [
    "bucketname = 'borza-hotelcom-data'"
   ]
  },
  {
   "cell_type": "code",
   "execution_count": null,
   "metadata": {},
   "outputs": [],
   "source": [
    "def get_term_list_from_sitemap():\n",
    "    r = requests.get('https://www.hotels.com/siteindex_www_hotels_com.xml')\n",
    "    return [re.findall('.com/(.*?)_www',x.text)[0] for \n",
    "                x in BeautifulSoup(r.content,'lxml').find_all('loc')]\n",
    "\n",
    "def get_term_df_from_sitemap(term):\n",
    "    r = requests.get('https://www.hotels.com/siteindex_www_hotels_com.xml')\n",
    "    todf = []\n",
    "    links = [x.text for x in BeautifulSoup(r.content,'lxml').find_all('loc') if '/%s_www' % term in x.text]\n",
    "    if len(links) > 2:\n",
    "        links = tqdm(links)\n",
    "    for link in links:\n",
    "        r2 = requests.get(link)\n",
    "        soup = BeautifulSoup(gzip.decompress(r2.content),'lxml')\n",
    "        todf.append(pd.DataFrame([{'name':x.find('loc').text.split('/')[-2],\n",
    "                                   'id':x.find('loc').text.split('/')[-3][2:],\n",
    "                                   'url':x.find('loc').text\n",
    "                                  } for x in soup.find_all('url')])\n",
    "        )\n",
    "    return pd.concat(todf)\n",
    "\n",
    "def get_full_sitemap():\n",
    "    full_sitemap = pd.DataFrame()\n",
    "    for term in tqdm(set(get_term_list_from_sitemap())):\n",
    "        _df = get_term_df_from_sitemap(term)\n",
    "        _df['term'] = term\n",
    "        full_sitemap = full_sitemap.append(_df)\n",
    "    full_sitemap['categ'] = full_sitemap['url'].apply(lambda x: re.findall(r'.com/(.*?)[0-9|\\.|/]',x)[0])\n",
    "    return full_sitemap"
   ]
  },
  {
   "cell_type": "code",
   "execution_count": null,
   "metadata": {},
   "outputs": [],
   "source": [
    "full_sitemap = get_full_sitemap()"
   ]
  },
  {
   "cell_type": "code",
   "execution_count": null,
   "metadata": {},
   "outputs": [],
   "source": [
    "full_sitemap.to_csv('s3://%s/full_sitemap.csv' % bucketname,index=None)"
   ]
  }
 ],
 "metadata": {
  "kernelspec": {
   "display_name": "Python 3",
   "language": "python",
   "name": "python3"
  },
  "language_info": {
   "codemirror_mode": {
    "name": "ipython",
    "version": 3
   },
   "file_extension": ".py",
   "mimetype": "text/x-python",
   "name": "python",
   "nbconvert_exporter": "python",
   "pygments_lexer": "ipython3",
   "version": "3.6.4"
  }
 },
 "nbformat": 4,
 "nbformat_minor": 2
}
