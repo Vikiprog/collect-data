{
 "cells": [
  {
   "cell_type": "code",
   "execution_count": null,
   "metadata": {},
   "outputs": [],
   "source": [
    "import datetime\n",
    "import requests\n",
    "from bs4 import BeautifulSoup\n",
    "import pandas as pd\n",
    "import numpy as np\n",
    "from tqdm import tqdm\n",
    "import dask.bag as db\n",
    "import json"
   ]
  },
  {
   "cell_type": "code",
   "execution_count": null,
   "metadata": {},
   "outputs": [],
   "source": [
    "from dask.distributed import Client\n",
    "client = Client()"
   ]
  },
  {
   "cell_type": "code",
   "execution_count": null,
   "metadata": {},
   "outputs": [],
   "source": [
    "client"
   ]
  },
  {
   "cell_type": "code",
   "execution_count": null,
   "metadata": {},
   "outputs": [],
   "source": [
    "bucketname = 'borza-hotelcom-data'"
   ]
  },
  {
   "cell_type": "code",
   "execution_count": null,
   "metadata": {},
   "outputs": [],
   "source": [
    "def parse_review_block(soup,hid):\n",
    "    revcont = soup.find('div',{'class':'review-container'})\n",
    "    result = {}\n",
    "    if type(revcont) == type(None):\n",
    "        return {}\n",
    "    for fun, name in [[lambda x: x.find('div',{'class':'heading'}\n",
    "                        ).find('span',{'class':'badge'}).text,'review_badge'],\n",
    "                      [lambda x: x.find('div',{'class':'heading'}\n",
    "                        ).find('span',{'class':'rating'}).text,'review_hotels-rating'],\n",
    "                      [lambda x: x.find('span',{'class':'ta-logo'}).text,'review_ta-rating'],\n",
    "                      [lambda x: x.find('span',{'class':'ta-total-reviews'}).text,'review_ta-revs'],\n",
    "                      [lambda x: x.find('a',{'class':'total-reviews'}).text,'review_hotels-revs']]:\n",
    "        try:\n",
    "            result[name] = fun(revcont)\n",
    "        except:\n",
    "            #print('FUCKED ----------- %s --- %s' % (name,hid))\n",
    "            pass\n",
    "    \n",
    "    for revdiv in revcont.find_all('div',{'class':'trust-you-reviews'}):\n",
    "        for rev in revdiv.find_all('div',{'class':'review'}):\n",
    "            revname = 'review_' + rev.find('div',{'class':'category-name'}).text\n",
    "            try:\n",
    "                result[revname + '-score'] = rev.find('div',{'class':'score'})['style']\n",
    "            except:\n",
    "                #print(revname,'score',hid)\n",
    "                pass\n",
    "            try:\n",
    "                result[revname + '-text'] = rev.find('div',{'class':'text'}).text\n",
    "            except:\n",
    "                #print(revname,'text',hid)\n",
    "                pass\n",
    "    return result"
   ]
  },
  {
   "cell_type": "code",
   "execution_count": null,
   "metadata": {},
   "outputs": [],
   "source": [
    "def process_hotel_attributes(hotelid):\n",
    "    hotelid = str(hotelid)\n",
    "    response = requests.get('https://www.hotels.com/ho' + hotelid,\n",
    "                                     params={'locale':'en_IE'})\n",
    "    result = {'hotelid':hotelid,\n",
    "             'date-downloaded':datetime.date.today().isoformat(),\n",
    "             'response_code':response.status_code}\n",
    "    soup = BeautifulSoup(response.content,'html5lib')\n",
    "    for vcard in soup.find_all('div',{'class':'property-description'}):\n",
    "        for fun, name in [[lambda x: x.find('h1').text,'name'],\n",
    "                         [lambda x: x.find('span',{'class':'hotel-coordinates'}\n",
    "                                          ).find_all('meta')[0]['content'],'lat'],\n",
    "                         [lambda x: x.find('span',{'class':'hotel-coordinates'}\n",
    "                                          ).find_all('meta')[1]['content'],'lon'],\n",
    "                         [lambda x: x.find('span',{'class','star-rating-text'}).text,'star'],\n",
    "                         [lambda x: x.find('span',{'class','street-address'}).text,'street'],\n",
    "                         [lambda x: x.find('span',{'class','locality'}).text,'locality'],\n",
    "                         [lambda x: x.find('span',{'class','region'}).text,'region'],\n",
    "                         [lambda x: x.find('span',{'class','postal-addr'}).text,'addr'],\n",
    "                         [lambda x: x.find('span',{'class','postal-code'}).text,'zip'],\n",
    "                         [lambda x: x.find('span',{'class','country-name'}).text,'country'],\n",
    "                         [lambda x: x.find('div',{'class','tagline'}).text,'tagline']]:\n",
    "            try:\n",
    "                result[name] = fun(vcard)\n",
    "            except:\n",
    "                #print('FUCKED ----------- %s --- %s' % (name,hotelid))\n",
    "                pass\n",
    "    try:\n",
    "        result['dest-id'] = soup.find('span',{'class':'back-link'}).find('a')['href'].split(\n",
    "            'destination-id=')[-1].split('&')[0]\n",
    "    except:\n",
    "        #print('FUCKED ----------- %s --- %s' % ('dest-id',hotelid))\n",
    "        pass\n",
    "    \n",
    "    for findict,name in [[{'data-overview-section-type':\"HOTEL_FEATURE\"},'base'],\n",
    "                        [{'data-overview-section-type':\"FAMILY_FRIENDLY_SECTION\"},'family'],\n",
    "                        [{'class':'key-facts-container'},'key'],\n",
    "                        [{'class':'travelling-container'},'travel'],\n",
    "                        [{'class':'transport-container'},'transport'],\n",
    "                        [{'class':'badges-and-services-container'},'badges']]:\n",
    "        baselist = soup.find('div',findict)\n",
    "        if name == 'key':\n",
    "            try:\n",
    "                baselist.find('div',{'class':'expandable-wrapper'}).decompose()\n",
    "            except:\n",
    "                pass\n",
    "        try:\n",
    "            lis = baselist.find_all('li')\n",
    "        except:\n",
    "            #print('FUCKED ----------- %s --- %s' % (name,hotelid))\n",
    "            lis = []\n",
    "            result[name + '_missing'] = 1\n",
    "        for li in lis:\n",
    "            result[name + '_' + li.text] = 1\n",
    "\n",
    "\n",
    "    for findict,name in [[{'class':'fact-sheets in-the-property-module'},'inhotel'],\n",
    "                         [{'class':'fact-sheets in-the-room-module'},'inroom']]:    \n",
    "        inhotel = soup.find('div',findict)\n",
    "        try:\n",
    "            lis = inhotel.find_all('div',{'class':'fact-sheet-table-row'})\n",
    "        except:\n",
    "            #print('FUCKED ----------- %s --- %s' % (name,hotelid))\n",
    "            result[name + '_missing'] = 1\n",
    "            lis = []\n",
    "        for li in lis:\n",
    "            head = li.find('div',{'class':'fact-sheet-table-header'})\n",
    "            try:\n",
    "                head = head.text\n",
    "                cells = li.find_all('li')\n",
    "            except:\n",
    "                #print('FUCKED ----------- %s --- %s' % (name,hotelid))\n",
    "                cells = []\n",
    "            for item in cells:\n",
    "                result[name + '_' + item.text] = 1\n",
    "    result.update(parse_review_block(soup,hotelid))\n",
    "    return result"
   ]
  },
  {
   "cell_type": "code",
   "execution_count": null,
   "metadata": {},
   "outputs": [],
   "source": [
    "ATTS_SAMPLE = 0.0002"
   ]
  },
  {
   "cell_type": "code",
   "execution_count": null,
   "metadata": {},
   "outputs": [],
   "source": [
    "full_sitemap = pd.read_csv('s3://%s/full_sitemap.csv' % bucketname,low_memory=False)"
   ]
  },
  {
   "cell_type": "code",
   "execution_count": null,
   "metadata": {},
   "outputs": [],
   "source": [
    "hotel_sample = db.from_sequence(full_sitemap\\\n",
    "                                .loc[full_sitemap['term'] == 'HOTEL','id']\\\n",
    "                                .sample(frac=ATTS_SAMPLE).values)"
   ]
  },
  {
   "cell_type": "code",
   "execution_count": null,
   "metadata": {},
   "outputs": [],
   "source": [
    "hotel_sample.map(process_hotel_attributes).map(json.dumps)\\\n",
    "    .to_textfiles(\"s3://%s/hotel-atts-*.json\" % bucketname)"
   ]
  }
 ],
 "metadata": {
  "kernelspec": {
   "display_name": "Python 3",
   "language": "python",
   "name": "python3"
  },
  "language_info": {
   "codemirror_mode": {
    "name": "ipython",
    "version": 3
   },
   "file_extension": ".py",
   "mimetype": "text/x-python",
   "name": "python",
   "nbconvert_exporter": "python",
   "pygments_lexer": "ipython3",
   "version": "3.6.4"
  }
 },
 "nbformat": 4,
 "nbformat_minor": 2
}
