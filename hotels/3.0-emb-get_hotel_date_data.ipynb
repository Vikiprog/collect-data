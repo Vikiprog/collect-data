{
 "cells": [
  {
   "cell_type": "code",
   "execution_count": null,
   "metadata": {},
   "outputs": [],
   "source": [
    "import datetime\n",
    "import itertools\n",
    "import dask.bag as db\n",
    "import pandas as pd\n",
    "import json\n",
    "import s3fs\n",
    "import requests\n",
    "from bs4 import BeautifulSoup"
   ]
  },
  {
   "cell_type": "code",
   "execution_count": null,
   "metadata": {},
   "outputs": [],
   "source": [
    "from dask.distributed import Client,progress\n",
    "client = Client()"
   ]
  },
  {
   "cell_type": "code",
   "execution_count": null,
   "metadata": {},
   "outputs": [],
   "source": [
    "client"
   ]
  },
  {
   "cell_type": "code",
   "execution_count": null,
   "metadata": {},
   "outputs": [],
   "source": [
    "bucketname = 'borza-hotelcom-data'"
   ]
  },
  {
   "cell_type": "code",
   "execution_count": null,
   "metadata": {},
   "outputs": [],
   "source": [
    "def roomparse(room):\n",
    "    roomdict = {}\n",
    "    try:\n",
    "        detli = room.find('div',{'class':'room-details'}).find_all('li')\n",
    "    except:\n",
    "        detli = []\n",
    "        roomdict['details_missing'] = 1\n",
    "    for li in detli:\n",
    "        roomdict[li.text] = 1\n",
    "    try:\n",
    "        inputli = room.find('form').find_all('input')\n",
    "    except:\n",
    "        inputli = []\n",
    "    for inp in inputli:\n",
    "        try:\n",
    "            roomdict[inp['name']] = inp['value']\n",
    "        except:\n",
    "            pass\n",
    "\n",
    "    for feature in room.find_all('span',{'class':'feature-title'}):\n",
    "        roomdict[feature.text] = 1\n",
    "\n",
    "    for fun,name in [[lambda x: x.find('h3').text,'room_name'],\n",
    "                    [lambda x: x.find('span',{'class':'occupancy-rate'}).text,'occupancy'],\n",
    "                    [lambda x: x.find('div',{'class':'cancellation'}).text.split()[0],'cancellation'],\n",
    "                    [lambda x: x.find('strong',{'class':'current-price'}).text,'price'],\n",
    "                    [lambda x: x.find('div',{'class':'price'}).text,'price-2'],\n",
    "                    [lambda x: x['data-index'],'data-index']]:\n",
    "        try:\n",
    "            roomdict[name] = fun(room)\n",
    "        except:\n",
    "            pass\n",
    "    return roomdict\n",
    "\n",
    "def process_date(args):\n",
    "    hotelid = args[0]\n",
    "    date=args[1]\n",
    "    chin = date.strftime('%Y-%m-%d')\n",
    "    chout = (date + datetime.timedelta(days = 1)).strftime('%Y-%m-%d')\n",
    "    params = {'q-check-out':chout,\n",
    "              'q-check-in':chin,\n",
    "              'q-room-0-adults':2,\n",
    "              'q-rooms':1,\n",
    "              'q-room-0-children':0,\n",
    "              'locale':'en_IE'}\n",
    "    url = 'https://www.hotels.com/ho' + str(hotelid)\n",
    "\n",
    "    r = requests.get(url,params=params)\n",
    "    #print(r.url)\n",
    "    rooms = BeautifulSoup(r.content,'html5lib').find_all('li',{'class':'room'})\n",
    "    hotelinfo = {'hotelid':hotelid,\n",
    "                'date':chin,\n",
    "                'rooms':len(rooms),\n",
    "                'response_code':r.status_code,\n",
    "                'url':r.url,\n",
    "                'downloaded_date':datetime.date.today().isoformat()}\n",
    "    \n",
    "    return [{**roomparse(r),**hotelinfo} for r in rooms]"
   ]
  },
  {
   "cell_type": "code",
   "execution_count": null,
   "metadata": {},
   "outputs": [],
   "source": [
    "def make_dateset(dlist):\n",
    "    return pd.concat([pd.Series(pd.date_range(**d)) for d in dlist])"
   ]
  },
  {
   "cell_type": "code",
   "execution_count": null,
   "metadata": {},
   "outputs": [],
   "source": [
    "fs = s3fs.S3FileSystem()"
   ]
  },
  {
   "cell_type": "code",
   "execution_count": null,
   "metadata": {},
   "outputs": [],
   "source": [
    "with fs.open('%s/atts-v0.json' % bucketname, 'r') as f:\n",
    "    hatts = json.load(f)"
   ]
  },
  {
   "cell_type": "code",
   "execution_count": null,
   "metadata": {},
   "outputs": [],
   "source": [
    "top_cities = pd.Series([h.get('dest-id',None) for h in hatts]).value_counts()"
   ]
  },
  {
   "cell_type": "code",
   "execution_count": null,
   "metadata": {},
   "outputs": [],
   "source": [
    "date_list = make_dateset([{'start':'2019-06-20','end':'2019-06-27'},\n",
    "              {'start':'2019-07-10','end':'2019-07-17'},\n",
    "              {'start':'2019-08-15','end':'2019-08-22'},\n",
    "              {'start':'2019-09-08','end':'2019-09-15'},\n",
    "              {'start':'2019-11-20','end':'2019-11-27'},\n",
    "              {'start':'2019-12-20','end':'2020-01-03'}])"
   ]
  },
  {
   "cell_type": "code",
   "execution_count": null,
   "metadata": {},
   "outputs": [],
   "source": [
    "hotel_list = pd.Series([h['hotelid'] for h in hatts if h.get('dest-id',None) in top_cities.head(20).index])"
   ]
  },
  {
   "cell_type": "code",
   "execution_count": null,
   "metadata": {},
   "outputs": [],
   "source": [
    "date_sample = date_list.sample(frac=0.05)\n",
    "hotel_sample = hotel_list.sample(frac=0.01)"
   ]
  },
  {
   "cell_type": "code",
   "execution_count": null,
   "metadata": {},
   "outputs": [],
   "source": [
    "input_args = itertools.product(hotel_sample,date_sample)"
   ]
  },
  {
   "cell_type": "code",
   "execution_count": null,
   "metadata": {},
   "outputs": [],
   "source": [
    "input_bag = db.from_sequence(input_args).persist().map(process_date)"
   ]
  },
  {
   "cell_type": "code",
   "execution_count": null,
   "metadata": {},
   "outputs": [],
   "source": [
    "out = input_bag.compute()"
   ]
  },
  {
   "cell_type": "code",
   "execution_count": null,
   "metadata": {},
   "outputs": [],
   "source": [
    "with fs.open('%s/dates-v0-%s.json' % (bucketname,datetime.date.today().isoformat()), 'w') as f:\n",
    "    json.dump(out,f)"
   ]
  }
 ],
 "metadata": {
  "kernelspec": {
   "display_name": "Python 3",
   "language": "python",
   "name": "python3"
  },
  "language_info": {
   "codemirror_mode": {
    "name": "ipython",
    "version": 3
   },
   "file_extension": ".py",
   "mimetype": "text/x-python",
   "name": "python",
   "nbconvert_exporter": "python",
   "pygments_lexer": "ipython3",
   "version": "3.6.4"
  }
 },
 "nbformat": 4,
 "nbformat_minor": 2
}
