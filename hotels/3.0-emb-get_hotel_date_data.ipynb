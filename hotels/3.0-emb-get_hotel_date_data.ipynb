{
 "cells": [
  {
   "cell_type": "code",
   "execution_count": 1,
   "metadata": {},
   "outputs": [],
   "source": [
    "import datetime\n",
    "import itertools\n",
    "import dask.bag as db\n",
    "import pandas as pd\n",
    "import json\n",
    "import s3fs\n",
    "import requests\n",
    "from bs4 import BeautifulSoup\n",
    "import os"
   ]
  },
  {
   "cell_type": "code",
   "execution_count": 2,
   "metadata": {},
   "outputs": [],
   "source": [
    "from dask.distributed import Client,progress\n",
    "client = Client()"
   ]
  },
  {
   "cell_type": "code",
   "execution_count": 3,
   "metadata": {},
   "outputs": [
    {
     "data": {
      "text/html": [
       "<table style=\"border: 2px solid white;\">\n",
       "<tr>\n",
       "<td style=\"vertical-align: top; border: 0px solid white\">\n",
       "<h3>Client</h3>\n",
       "<ul>\n",
       "  <li><b>Scheduler: </b>tcp://mortal-eel-dask-scheduler:8786\n",
       "  <li><b>Dashboard: </b><a href='http://mortal-eel-dask-scheduler:8787/status' target='_blank'>http://mortal-eel-dask-scheduler:8787/status</a>\n",
       "</ul>\n",
       "</td>\n",
       "<td style=\"vertical-align: top; border: 0px solid white\">\n",
       "<h3>Cluster</h3>\n",
       "<ul>\n",
       "  <li><b>Workers: </b>40</li>\n",
       "  <li><b>Cores: </b>40</li>\n",
       "  <li><b>Memory: </b>8.00 GB</li>\n",
       "</ul>\n",
       "</td>\n",
       "</tr>\n",
       "</table>"
      ],
      "text/plain": [
       "<Client: scheduler='tcp://100.96.1.13:8786' processes=40 cores=40>"
      ]
     },
     "execution_count": 3,
     "metadata": {},
     "output_type": "execute_result"
    }
   ],
   "source": [
    "client"
   ]
  },
  {
   "cell_type": "code",
   "execution_count": 4,
   "metadata": {},
   "outputs": [],
   "source": [
    "bucketname = 'borza-hotelcom-data'"
   ]
  },
  {
   "cell_type": "code",
   "execution_count": 5,
   "metadata": {},
   "outputs": [],
   "source": [
    "def roomparse(room):\n",
    "    roomdict = {}\n",
    "    try:\n",
    "        detli = room.find('div',{'class':'room-details'}).find_all('li')\n",
    "    except:\n",
    "        detli = []\n",
    "        roomdict['details_missing'] = 1\n",
    "    for li in detli:\n",
    "        roomdict[li.text] = 1\n",
    "    try:\n",
    "        inputli = room.find('form').find_all('input')\n",
    "    except:\n",
    "        inputli = []\n",
    "    for inp in inputli:\n",
    "        try:\n",
    "            roomdict[inp['name']] = inp['value']\n",
    "        except:\n",
    "            pass\n",
    "\n",
    "    for feature in room.find_all('span',{'class':'feature-title'}):\n",
    "        roomdict[feature.text] = 1\n",
    "\n",
    "    for fun,name in [[lambda x: x.find('h3').text,'room_name'],\n",
    "                    [lambda x: x.find('span',{'class':'occupancy-rate'}).text,'occupancy'],\n",
    "                    [lambda x: x.find('div',{'class':'cancellation'}).text.split()[0],'cancellation'],\n",
    "                    [lambda x: x.find('strong',{'class':'current-price'}).text,'price'],\n",
    "                    [lambda x: x.find('div',{'class':'price'}).text,'price-2'],\n",
    "                    [lambda x: x['data-index'],'data-index']]:\n",
    "        try:\n",
    "            roomdict[name] = fun(room)\n",
    "        except:\n",
    "            pass\n",
    "    return roomdict\n",
    "\n",
    "def process_date(args):\n",
    "    hotelid = args[0]\n",
    "    date=args[1]\n",
    "    chin = date.strftime('%Y-%m-%d')\n",
    "    chout = (date + datetime.timedelta(days = 1)).strftime('%Y-%m-%d')\n",
    "    params = {'q-check-out':chout,\n",
    "              'q-check-in':chin,\n",
    "              'q-room-0-adults':2,\n",
    "              'q-rooms':1,\n",
    "              'q-room-0-children':0,\n",
    "              'locale':'en_IE'}\n",
    "    url = 'https://www.hotels.com/ho' + str(hotelid)\n",
    "\n",
    "    r = requests.get(url,params=params)\n",
    "    #print(r.url)\n",
    "    rooms = BeautifulSoup(r.content,'html5lib').find_all('li',{'class':'room'})\n",
    "    hotelinfo = {'hotelid':hotelid,\n",
    "                'date':chin,\n",
    "                'rooms':len(rooms),\n",
    "                'response_code':r.status_code,\n",
    "                'url':r.url,\n",
    "                'downloaded_date':datetime.date.today().isoformat()}\n",
    "    \n",
    "    return [{**roomparse(r),**hotelinfo} for r in rooms]"
   ]
  },
  {
   "cell_type": "code",
   "execution_count": 6,
   "metadata": {},
   "outputs": [],
   "source": [
    "def make_dateset(dlist):\n",
    "    return pd.concat([pd.Series(pd.date_range(**d)) for d in dlist])"
   ]
  },
  {
   "cell_type": "code",
   "execution_count": 8,
   "metadata": {},
   "outputs": [],
   "source": [
    "top_n_city = 20\n",
    "date_frac = 0.1\n",
    "hotel_frac = 0.05"
   ]
  },
  {
   "cell_type": "code",
   "execution_count": 9,
   "metadata": {},
   "outputs": [],
   "source": [
    "fs = s3fs.S3FileSystem(anon=False,key=os.environ['aws_access_key_id'],\n",
    "                      secret=os.environ['aws_secret_access_key'])"
   ]
  },
  {
   "cell_type": "code",
   "execution_count": 10,
   "metadata": {},
   "outputs": [],
   "source": [
    "with fs.open('%s/atts-v0.json' % bucketname, 'r') as f:\n",
    "    hatts = json.load(f)"
   ]
  },
  {
   "cell_type": "code",
   "execution_count": 11,
   "metadata": {},
   "outputs": [],
   "source": [
    "top_cities = pd.Series([h.get('dest-id',None) for h in hatts]).value_counts()"
   ]
  },
  {
   "cell_type": "code",
   "execution_count": 12,
   "metadata": {},
   "outputs": [],
   "source": [
    "date_list = make_dateset([{'start':'2019-06-20','end':'2019-06-27'},\n",
    "              {'start':'2019-07-10','end':'2019-07-17'},\n",
    "              {'start':'2019-08-15','end':'2019-08-22'},\n",
    "              {'start':'2019-09-08','end':'2019-09-15'},\n",
    "              {'start':'2019-11-20','end':'2019-11-27'},\n",
    "              {'start':'2019-12-20','end':'2020-01-03'}])"
   ]
  },
  {
   "cell_type": "code",
   "execution_count": null,
   "metadata": {},
   "outputs": [],
   "source": [
    "hotel_list = pd.Series([h['hotelid'] for h in hatts if h.get('dest-id',None) in top_cities.head(top_n_city).index])"
   ]
  },
  {
   "cell_type": "code",
   "execution_count": null,
   "metadata": {},
   "outputs": [],
   "source": [
    "date_sample = date_list.sample(frac=date_frac)\n",
    "hotel_sample = hotel_list.sample(frac=hotel_frac)"
   ]
  },
  {
   "cell_type": "code",
   "execution_count": null,
   "metadata": {},
   "outputs": [],
   "source": [
    "input_args = itertools.product(hotel_sample,date_sample)"
   ]
  },
  {
   "cell_type": "code",
   "execution_count": null,
   "metadata": {},
   "outputs": [],
   "source": [
    "input_bag = db.from_sequence(input_args).persist().map(process_date)"
   ]
  },
  {
   "cell_type": "code",
   "execution_count": null,
   "metadata": {},
   "outputs": [],
   "source": [
    "len(date_sample) * len(hotel_sample)"
   ]
  },
  {
   "cell_type": "code",
   "execution_count": null,
   "metadata": {},
   "outputs": [],
   "source": [
    "%%time\n",
    "out = input_bag.compute()"
   ]
  },
  {
   "cell_type": "code",
   "execution_count": null,
   "metadata": {},
   "outputs": [],
   "source": [
    "with fs.open('%s/dates-v0-%s.json' % (bucketname,datetime.date.today().isoformat()), 'w') as f:\n",
    "    json.dump(out,f)"
   ]
  }
 ],
 "metadata": {
  "kernelspec": {
   "display_name": "Python 3",
   "language": "python",
   "name": "python3"
  },
  "language_info": {
   "codemirror_mode": {
    "name": "ipython",
    "version": 3
   },
   "file_extension": ".py",
   "mimetype": "text/x-python",
   "name": "python",
   "nbconvert_exporter": "python",
   "pygments_lexer": "ipython3",
   "version": "3.7.1"
  }
 },
 "nbformat": 4,
 "nbformat_minor": 2
}
